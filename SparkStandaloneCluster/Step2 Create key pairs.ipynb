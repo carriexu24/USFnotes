{
 "cells": [
  {
   "cell_type": "markdown",
   "metadata": {},
   "source": [
    "# Step 2: Create key pairs\n",
    "*Amazon EC2 uses public–key cryptography to encrypt and decrypt login information. To log in to your instance, you must create a key pair, specify the name of the key pair when you launch the instance, and provide the private key when you connect to the instance. You can check <a href=\"http://docs.aws.amazon.com/AWSEC2/latest/UserGuide/ec2-key-pairs.html\">this link</a> for more details.*\n",
    "#### 1. Go to the \"EC2 Dashboard\", choose \"Key Pairs\" to create new a key pair. \n",
    "Note that each region has its own \"Key Pairs\" and \"Instances\" and different regions are seperated. Here we choose \"US West(Oregon)\".\n",
    "<img src=\"image/step2/1.png\" width=\"600\" height=\"500\"> \n",
    "#### 2. Click \"Create Key Pair\" and choose your \"Key pair name\". Then click \"Create\".\n",
    "<img src=\"image/step2/2.png\" width=\"600\" height=\"500\"> \n",
    "#### 3. Now your key pair has been created and a private key file (i.e., a .pem file) will be automatically downloaded.\n",
    "<img src=\"image/step2/3.png\" width=\"600\" height=\"500\"> \n",
    "#### 4. If the suffix of the file is \".pem.txt\", change it into \".pem\". Store the .pem into a safe place on your machine.\n",
    "<img src=\"image/step2/4.png\"> \n",
    "#### 5. Set the permissions for the .pem file to 600 (i.e., only you can read and write it) so that `ssh` will work.\n",
    "<img src=\"image/step2/5.png\" width=\"600\" height=\"500\"> "
   ]
  }
 ],
 "metadata": {
  "kernelspec": {
   "display_name": "Python 2",
   "language": "python",
   "name": "python2"
  },
  "language_info": {
   "codemirror_mode": {
    "name": "ipython",
    "version": 2
   },
   "file_extension": ".py",
   "mimetype": "text/x-python",
   "name": "python",
   "nbconvert_exporter": "python",
   "pygments_lexer": "ipython2",
   "version": "2.7.13"
  }
 },
 "nbformat": 4,
 "nbformat_minor": 2
}
