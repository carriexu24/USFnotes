{
 "cells": [
  {
   "cell_type": "markdown",
   "metadata": {},
   "source": [
    "# Step 1: Create a IAM user\n",
    "*An IAM user is an entity that you create in AWS. It can give you the ability to sign in to the AWS Management Console for interactive tasks and to make programmatic requests to AWS services using the API or CLI. You can check <a href=\"http://docs.aws.amazon.com/IAM/latest/UserGuide/id_users_create.html\">this link</a> for more details.*\n",
    "#### 1. Open your AWS console.\n",
    "#### 2. Put your cursor on your username (beside the bell icon).\n",
    "#### 3. Click \"My Security Credentials\".\n",
    "#### 4. Click \"Users\" on the sidebar.\n",
    "#### 5. Choose \"Add user\" (the blue button).\n",
    "<img src=\"image/step1/1.png\" width=\"600\" height=\"500\">\n",
    "#### 6. Choose a user name and access type, then click \"Next\".\n",
    "<img src=\"image/step1/2.png\" width=\"600\" height=\"500\">\n",
    "#### 7. Choose \"Attach existing policies directly\" and \"AmazonEC2FullAccess\", then click \"Next\".\n",
    "<img src=\"image/step1/3.png\" width=\"600\" height=\"500\">\n",
    "#### 8. Click \"Create user\".\n",
    "<img src=\"image/step1/4.png\" width=\"600\" height=\"500\">\n",
    "#### 9. A new user has been successfully created. \n",
    "Now we can copy the \"Access key ID\" and \"Secret access key\", or we can download .csv file which also includes the information.\n",
    "<img src=\"image/step1/5.png\" width=\"600\" height=\"500\">\n",
    "#### 10. Now add the \"Access key ID\" and \"Secret access key\" to your `~/.profile` or `~/.bash_profile`. \n",
    "You can use `vim` to edit `~/.profile` or `~/.bash_profile`. Remember use `:w` to save the change. Now you can sign into the AWS Management Console as a user from the terminal.\n",
    "<img src=\"image/step1/6.png\" width=\"600\" height=\"500\">"
   ]
  }
 ],
 "metadata": {
  "kernelspec": {
   "display_name": "Python 2",
   "language": "python",
   "name": "python2"
  },
  "language_info": {
   "codemirror_mode": {
    "name": "ipython",
    "version": 2
   },
   "file_extension": ".py",
   "mimetype": "text/x-python",
   "name": "python",
   "nbconvert_exporter": "python",
   "pygments_lexer": "ipython2",
   "version": "2.7.13"
  }
 },
 "nbformat": 4,
 "nbformat_minor": 2
}
